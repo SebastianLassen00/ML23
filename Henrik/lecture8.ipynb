{
 "cells": [
  {
   "cell_type": "code",
   "execution_count": null,
   "id": "b71a9ae4-b281-4ed4-a984-2063595ecfaf",
   "metadata": {},
   "outputs": [],
   "source": [
    "import pandas as pd\n",
    "import numpy as np\n",
    "import matplotlib.pyplot as plt\n",
    "from scipy.stats import beta, norm\n",
    "%matplotlib inline"
   ]
  },
  {
   "cell_type": "markdown",
   "id": "b7e1bc8f-7368-4741-b342-4a6640ae7234",
   "metadata": {},
   "source": [
    "# Part 1"
   ]
  },
  {
   "cell_type": "markdown",
   "id": "14c95e65-2e83-41d3-b3bf-4f78c4ebba01",
   "metadata": {
    "tags": []
   },
   "source": [
    "## Exercise 1"
   ]
  },
  {
   "cell_type": "markdown",
   "id": "77383765-83b5-41aa-93a1-a515c51c0677",
   "metadata": {},
   "source": [
    "Consider the data set below"
   ]
  },
  {
   "cell_type": "code",
   "execution_count": null,
   "id": "f47fbdc8-2b21-4407-a76b-ced1121b2413",
   "metadata": {},
   "outputs": [],
   "source": [
    "data = np.array([4.04078064, -0.55665445, 3.05080334, 5.08400317, 2.72089663, 0.71922335, 0.95069126, 5.43223656, 3.50298766, -1.69666696, 0.16887197, 0.97921115, 4.81828023, 2.13361239, 2.31649532, 2.45398909, 2.95186638, 0.35927233, 1.53276119, 1.51244625, 2.05198596, -0.10338973, 2.18330019, 1.20449377, 1.77198419, 2.36079822, 4.24525693, 1.28167319, -0.4782344 , 2.15987517, 1.04436119, -3.31367483, 1.90677577, -1.52585791, 1.30861677, 3.92755598, 5.28340674, 2.46339939, 2.92340074, 6.86935904, 4.36460648, 4.31874289, 3.4310631 , 4.56743957, 1.89164429, 3.07432364, -1.09259307, 0.20645733, 1.9716586 , 0.48545271, 0.95117389, 1.17221689, 4.56967222, 1.00717303, 5.42222525, 3.16312747, 0.85955611, 2.1542952 , 3.32612246, 3.12462947, 0.4495974 , 1.6291549 , 1.31738387, 2.73270522, 0.40173961, 1.66718506, -2.60436878, 3.89440908, 2.06121341, 0.65197735, 5.40756812, 7.0944758 , 0.88894319, 0.96374457, -1.26270571, 2.19074211, 0.06566279, 2.01504511, 4.42887827, -0.71989433, 4.0375403 , 5.5868948 , 4.05289467, 1.25946927, -1.1316249 , -0.35446895, 6.1372851 , 0.14735692, 5.40410798, 5.33778763, 5.54798016, 3.39152955, 2.3835751 , 0.03465975, 0.81116816, 4.39280317, 1.85958392, 2.27926744, 1.51646355, 2.66025771])"
   ]
  },
  {
   "cell_type": "markdown",
   "id": "5bd5b469-22bb-437c-91d3-348aaea8853c",
   "metadata": {},
   "source": [
    "Assume a Gaussian distribution for the data.\n",
    "* Calculate maximum likelihood estimates for the paarmeters\n",
    "* Visualize the data and the model"
   ]
  },
  {
   "cell_type": "code",
   "execution_count": null,
   "id": "63a0722c-157c-46dc-81e0-540745db0baa",
   "metadata": {},
   "outputs": [],
   "source": [
    "x = np.linspace(-5, 10, 1000)\n",
    "y = norm.pdf(x,mu_hat, sigma_hat)\n",
    "plt.plot(x,y)\n",
    "plt.hist(data, density=True)"
   ]
  },
  {
   "cell_type": "markdown",
   "id": "4d55388f-bcbc-4cbd-be7c-638bd0752e0b",
   "metadata": {},
   "source": [
    "## Exercise 2 "
   ]
  },
  {
   "cell_type": "markdown",
   "id": "c295aaa2-9a51-426d-8093-ce85062bd976",
   "metadata": {},
   "source": [
    "Consider a poker game consisting of two rounds, and where each player is ini- tially dealt three cards. During the first round all three cards can be changed (FC), but during the second round at most two cards can be changed (SC). When deciding on whether to call or fold you can taken into account the number of cards changed by your opponent as well as your current hand (MH). After playing 20 games we have the results in Table 1, where BH shows who has the best hand."
   ]
  },
  {
   "cell_type": "code",
   "execution_count": null,
   "id": "195fd6df-e31f-4ffe-9e36-8d329412f000",
   "metadata": {},
   "outputs": [],
   "source": [
    "df = pd.read_csv('poker_data.csv')\n",
    "print(df)"
   ]
  },
  {
   "cell_type": "markdown",
   "id": "85082b77-3334-4748-9d93-a99314d53485",
   "metadata": {
    "tags": []
   },
   "source": [
    "* Construct a naive Bayes classifier for the poker domain. \n",
    "* Use the data cases to learn the maximum likelihood parameters in the model; if you feel comfortable with the estimation procedure, you only need to estimate the probabilities required for solving the exercise below. \n",
    "* What is the posterior distribution of BH given MH=1a, FC=1, and SC=1? \n",
    "* Do you see any potential issues with the posterior and how could you address it?"
   ]
  },
  {
   "cell_type": "code",
   "execution_count": null,
   "id": "3c486488-26d9-4300-8a45-96eedcba47ff",
   "metadata": {},
   "outputs": [],
   "source": [
    "# Hint: You can calculate counts using, e.g.:\n",
    "df[(df.FC==1) & (df.BH=='me')].shape[0]"
   ]
  },
  {
   "cell_type": "markdown",
   "id": "f3201c1c-1e72-415e-9eef-95d1c90274db",
   "metadata": {},
   "source": [
    "## Exercise 3\n",
    "\n",
    "Perform one more iteration of the EM-algorithm in the example on Slide 23. You may consider using Python to calculate the required probabilities. "
   ]
  },
  {
   "cell_type": "markdown",
   "id": "44c67059-272d-46ee-a75f-1b27cc97104f",
   "metadata": {},
   "source": [
    "## Exercise 4\n",
    "\n",
    "In the thumbtack experiment, let the *unnormalized*\n",
    "prior distribution for $\\theta$ be\n",
    "\n",
    "$$f(\\theta) =\n",
    "\\begin{cases}\n",
    "\\theta\\text{ if }\\theta \\le 1/2\\\\\n",
    "(1-\\theta)\\text{ if }1/2\\le \\theta \\le 1\n",
    "\\end{cases}\n",
    "$$"
   ]
  },
  {
   "cell_type": "code",
   "execution_count": null,
   "id": "13449799-b004-4543-995c-8c76d3cd5fd3",
   "metadata": {},
   "outputs": [],
   "source": [
    "x = np.linspace(0,1,10000)\n",
    "y = np.array([xp if xp <= 0.5 else (1-xp) for xp in x])\n",
    "plt.plot(x,y)\n",
    "plt.show()"
   ]
  },
  {
   "cell_type": "markdown",
   "id": "671d42d7-bda9-4b1b-8e03-8f7c7888add5",
   "metadata": {},
   "source": [
    "* What is the normalization constant for the prior distribution?\n",
    "* Assume that we have performed one experiment resulting in $up$. What is now the posterior distribution for\n",
    "$\\theta$? Comparing your result with the prior distribution, do you see any challenges with the current model specification? "
   ]
  },
  {
   "cell_type": "markdown",
   "id": "f51fdab3-83fc-409a-b992-0222feb67aa3",
   "metadata": {},
   "source": [
    "## Exercise 5\n",
    "\n",
    "Reconsider the thumbtack model above, but replace the prior distribution over $\\theta$ and a Beta distribution chosing suitable hyperparameters of your own chosing."
   ]
  },
  {
   "cell_type": "code",
   "execution_count": null,
   "id": "fa6092fd-ffb9-437b-bea2-609cdc059f5e",
   "metadata": {},
   "outputs": [],
   "source": [
    "x = np.linspace(0,1,100)\n",
    "y = beta.pdf(x,2,2)\n",
    "plt.plot(x,y)"
   ]
  },
  {
   "cell_type": "markdown",
   "id": "43ab9b54-d103-496f-9153-afb52aeedb88",
   "metadata": {},
   "source": [
    "* What is the posterior distribution after seeing *pin up*? \n",
    "\n",
    "* How does the functional form compare to the posteror under the original prior distribution?\n",
    "\n",
    "* How could you summarize the posterior distribution?\n",
    "\n",
    "* Calculate the posterior predictive distribtion?"
   ]
  },
  {
   "cell_type": "code",
   "execution_count": null,
   "id": "c621a894-0ca2-406c-9f50-802f0ea74134",
   "metadata": {},
   "outputs": [],
   "source": []
  }
 ],
 "metadata": {
  "kernelspec": {
   "display_name": "Python 3 (ipykernel)",
   "language": "python",
   "name": "python3"
  },
  "language_info": {
   "codemirror_mode": {
    "name": "ipython",
    "version": 3
   },
   "file_extension": ".py",
   "mimetype": "text/x-python",
   "name": "python",
   "nbconvert_exporter": "python",
   "pygments_lexer": "ipython3",
   "version": "3.9.0"
  }
 },
 "nbformat": 4,
 "nbformat_minor": 5
}
