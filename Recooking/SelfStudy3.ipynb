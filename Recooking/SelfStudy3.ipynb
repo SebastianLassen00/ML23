{
 "cells": [
  {
   "attachments": {},
   "cell_type": "markdown",
   "metadata": {},
   "source": [
    "#  Self Study 3"
   ]
  },
  {
   "attachments": {},
   "cell_type": "markdown",
   "metadata": {},
   "source": [
    "In this self study we perform character recognition using SVM classifiers. We use the MNIST dataset, which consists of 70000 handwritten digits 0..9 at a resolution of 28x28 pixels. \n",
    "\n",
    "Stuff we need:"
   ]
  },
  {
   "cell_type": "code",
   "execution_count": 1,
   "metadata": {},
   "outputs": [],
   "source": [
    "import matplotlib.pyplot as plt\n",
    "import numpy as np\n",
    "import time\n",
    "import sklearn\n",
    "from sklearn.neural_network import MLPClassifier\n",
    "from sklearn.svm import SVC\n",
    "from sklearn.model_selection import train_test_split\n",
    "from sklearn.metrics import confusion_matrix,accuracy_score\n",
    "from skimage.transform import rescale, resize\n",
    "#from sklearn.datasets import fetch"
   ]
  },
  {
   "attachments": {},
   "cell_type": "markdown",
   "metadata": {},
   "source": [
    "Now we get the MNIST data. Using the fetch_mldata function, this will be downloaded from the web, and stored in the directory you specify as data_home (replace my path in the following cell):"
   ]
  },
  {
   "cell_type": "code",
   "execution_count": 2,
   "metadata": {},
   "outputs": [],
   "source": [
    "from sklearn.datasets import fetch_openml\n",
    "mnist = fetch_openml(name='mnist_784', data_home='/home/jaeger/Data')"
   ]
  },
  {
   "attachments": {},
   "cell_type": "markdown",
   "metadata": {},
   "source": [
    "The data has .data and .target attributes. The following gives us some basic information on the data:"
   ]
  },
  {
   "cell_type": "code",
   "execution_count": 3,
   "metadata": {},
   "outputs": [
    {
     "name": "stdout",
     "output_type": "stream",
     "text": [
      "Number of datapoints: 70000\n",
      "\n",
      "Number of features: 784\n",
      "\n",
      "List of labels: ['0' '1' '2' '3' '4' '5' '6' '7' '8' '9']\n",
      "\n"
     ]
    }
   ],
   "source": [
    "print(\"Number of datapoints: {}\\n\".format(mnist.data.shape[0]))\n",
    "print(\"Number of features: {}\\n\".format(mnist.data.shape[1]))\n",
    "print(\"List of labels: {}\\n\".format(np.unique(mnist.target)))"
   ]
  },
  {
   "attachments": {},
   "cell_type": "markdown",
   "metadata": {},
   "source": [
    "The mnist.data is represented as a Pandas dataframe. The following code expects mnist.data to be a plain np.array, which we get simply by running:"
   ]
  },
  {
   "cell_type": "code",
   "execution_count": 4,
   "metadata": {},
   "outputs": [],
   "source": [
    "mnist.data=np.array(mnist.data)"
   ]
  },
  {
   "attachments": {},
   "cell_type": "markdown",
   "metadata": {},
   "source": [
    "We can plot individual datapoints as follows:"
   ]
  },
  {
   "cell_type": "code",
   "execution_count": 5,
   "metadata": {},
   "outputs": [
    {
     "name": "stdout",
     "output_type": "stream",
     "text": [
      "Value of datapoint no. 4:\n",
      "[  0.   0.   0.   0.   0.   0.   0.   0.   0.   0.   0.   0.   0.   0.\n",
      "   0.   0.   0.   0.   0.   0.   0.   0.   0.   0.   0.   0.   0.   0.\n",
      "   0.   0.   0.   0.   0.   0.   0.   0.   0.   0.   0.   0.   0.   0.\n",
      "   0.   0.   0.   0.   0.   0.   0.   0.   0.   0.   0.   0.   0.   0.\n",
      "   0.   0.   0.   0.   0.   0.   0.   0.   0.   0.   0.   0.   0.   0.\n",
      "   0.   0.   0.   0.   0.   0.   0.   0.   0.   0.   0.   0.   0.   0.\n",
      "   0.   0.   0.   0.   0.   0.   0.   0.   0.   0.   0.   0.   0.   0.\n",
      "   0.   0.   0.   0.   0.   0.   0.   0.   0.   0.   0.   0.   0.   0.\n",
      "   0.   0.   0.   0.   0.   0.   0.   0.   0.   0.   0.   0.   0.   0.\n",
      "   0.   0.   0.   0.   0.   0.   0.   0.   0.   0.   0.   0.   0.   0.\n",
      "   0.   0.   0.   0.   0.   0.   0.   0.   0.   0.   0.   0.   0.   0.\n",
      "   0.   0.   0.   0.   0.   0.   0.   0.   0.   0.   0.   0.   0.   0.\n",
      "   0.   0.   0.   0.   0.   0.   0.   0.   0.   0.   0.   0.   0.   0.\n",
      "   0.   0.   0.   0.   0.   0.   0.   0.   0.   0.   0.   0.   0.   0.\n",
      "   0.   0.   0.   0.   0.   0.   0.   0.   0.   0.   0.   0.  55. 148.\n",
      " 210. 253. 253. 113.  87. 148.  55.   0.   0.   0.   0.   0.   0.   0.\n",
      "   0.   0.   0.   0.   0.   0.   0.   0.   0.   0.   0.  87. 232. 252.\n",
      " 253. 189. 210. 252. 252. 253. 168.   0.   0.   0.   0.   0.   0.   0.\n",
      "   0.   0.   0.   0.   0.   0.   0.   0.   0.   4.  57. 242. 252. 190.\n",
      "  65.   5.  12. 182. 252. 253. 116.   0.   0.   0.   0.   0.   0.   0.\n",
      "   0.   0.   0.   0.   0.   0.   0.   0.   0.  96. 252. 252. 183.  14.\n",
      "   0.   0.  92. 252. 252. 225.  21.   0.   0.   0.   0.   0.   0.   0.\n",
      "   0.   0.   0.   0.   0.   0.   0.   0. 132. 253. 252. 146.  14.   0.\n",
      "   0.   0. 215. 252. 252.  79.   0.   0.   0.   0.   0.   0.   0.   0.\n",
      "   0.   0.   0.   0.   0.   0.   0. 126. 253. 247. 176.   9.   0.   0.\n",
      "   8.  78. 245. 253. 129.   0.   0.   0.   0.   0.   0.   0.   0.   0.\n",
      "   0.   0.   0.   0.   0.   0.  16. 232. 252. 176.   0.   0.   0.  36.\n",
      " 201. 252. 252. 169.  11.   0.   0.   0.   0.   0.   0.   0.   0.   0.\n",
      "   0.   0.   0.   0.   0.   0.  22. 252. 252.  30.  22. 119. 197. 241.\n",
      " 253. 252. 251.  77.   0.   0.   0.   0.   0.   0.   0.   0.   0.   0.\n",
      "   0.   0.   0.   0.   0.   0.  16. 231. 252. 253. 252. 252. 252. 226.\n",
      " 227. 252. 231.   0.   0.   0.   0.   0.   0.   0.   0.   0.   0.   0.\n",
      "   0.   0.   0.   0.   0.   0.   0.  55. 235. 253. 217. 138.  42.  24.\n",
      " 192. 252. 143.   0.   0.   0.   0.   0.   0.   0.   0.   0.   0.   0.\n",
      "   0.   0.   0.   0.   0.   0.   0.   0.   0.   0.   0.   0.   0.  62.\n",
      " 255. 253. 109.   0.   0.   0.   0.   0.   0.   0.   0.   0.   0.   0.\n",
      "   0.   0.   0.   0.   0.   0.   0.   0.   0.   0.   0.   0.   0.  71.\n",
      " 253. 252.  21.   0.   0.   0.   0.   0.   0.   0.   0.   0.   0.   0.\n",
      "   0.   0.   0.   0.   0.   0.   0.   0.   0.   0.   0.   0.   0.   0.\n",
      " 253. 252.  21.   0.   0.   0.   0.   0.   0.   0.   0.   0.   0.   0.\n",
      "   0.   0.   0.   0.   0.   0.   0.   0.   0.   0.   0.   0.   0.  71.\n",
      " 253. 252.  21.   0.   0.   0.   0.   0.   0.   0.   0.   0.   0.   0.\n",
      "   0.   0.   0.   0.   0.   0.   0.   0.   0.   0.   0.   0.   0. 106.\n",
      " 253. 252.  21.   0.   0.   0.   0.   0.   0.   0.   0.   0.   0.   0.\n",
      "   0.   0.   0.   0.   0.   0.   0.   0.   0.   0.   0.   0.   0.  45.\n",
      " 255. 253.  21.   0.   0.   0.   0.   0.   0.   0.   0.   0.   0.   0.\n",
      "   0.   0.   0.   0.   0.   0.   0.   0.   0.   0.   0.   0.   0.   0.\n",
      " 218. 252.  56.   0.   0.   0.   0.   0.   0.   0.   0.   0.   0.   0.\n",
      "   0.   0.   0.   0.   0.   0.   0.   0.   0.   0.   0.   0.   0.   0.\n",
      "  96. 252. 189.  42.   0.   0.   0.   0.   0.   0.   0.   0.   0.   0.\n",
      "   0.   0.   0.   0.   0.   0.   0.   0.   0.   0.   0.   0.   0.   0.\n",
      "  14. 184. 252. 170.  11.   0.   0.   0.   0.   0.   0.   0.   0.   0.\n",
      "   0.   0.   0.   0.   0.   0.   0.   0.   0.   0.   0.   0.   0.   0.\n",
      "   0.  14. 147. 252.  42.   0.   0.   0.   0.   0.   0.   0.   0.   0.\n",
      "   0.   0.   0.   0.   0.   0.   0.   0.   0.   0.   0.   0.   0.   0.\n",
      "   0.   0.   0.   0.   0.   0.   0.   0.   0.   0.   0.   0.   0.   0.]\n",
      "\n",
      "As image:\n",
      "\n"
     ]
    },
    {
     "data": {
      "image/png": "[encoded data removed]",
      "text/plain": [
       "<Figure size 432x288 with 1 Axes>"
      ]
     },
     "metadata": {
      "needs_background": "light"
     },
     "output_type": "display_data"
    }
   ],
   "source": [
    "index = 4\n",
    "print(\"Value of datapoint no. {}:\\n{}\\n\".format(index,mnist.data[index]))\n",
    "print(\"As image:\\n\")\n",
    "plt.imshow(mnist.data[index].reshape(28,28),cmap=plt.cm.gray_r)\n",
    "plt.show()"
   ]
  },
  {
   "attachments": {},
   "cell_type": "markdown",
   "metadata": {},
   "source": [
    "To make things a little bit simpler (and faster!), we can extract from the data binary subsets, that only contain the data for two selected digits:"
   ]
  },
  {
   "cell_type": "code",
   "execution_count": 6,
   "metadata": {},
   "outputs": [
    {
     "name": "stdout",
     "output_type": "stream",
     "text": [
      "The first datapoint now is: \n",
      "\n"
     ]
    },
    {
     "data": {
      "image/png": "[encoded data removed]",
      "text/plain": [
       "<Figure size 432x288 with 1 Axes>"
      ]
     },
     "metadata": {
      "needs_background": "light"
     },
     "output_type": "display_data"
    },
    {
     "name": "stdout",
     "output_type": "stream",
     "text": [
      "Number of datapoints: 14117\n",
      "\n"
     ]
    }
   ],
   "source": [
    "digit0='4'\n",
    "digit1='7'\n",
    "mnist_bin_data=mnist.data[np.logical_or(mnist.target==digit0,mnist.target==digit1)]\n",
    "mnist_bin_target=mnist.target[np.logical_or(mnist.target==digit0,mnist.target==digit1)]\n",
    "print(\"The first datapoint now is: \\n\")\n",
    "plt.imshow(mnist_bin_data[0].reshape(28,28),cmap=plt.cm.gray_r)\n",
    "plt.show()\n",
    "print(\"Number of datapoints: {}\\n\".format(len(mnist_bin_data)))\n"
   ]
  },
  {
   "attachments": {},
   "cell_type": "markdown",
   "metadata": {},
   "source": [
    "**Exercise 1:** Split the mnist_bin data into training and test set. Learn different SVM models by varying the kernel functions (SVM). For each configuration, determine the time it takes to learn the model, and the accuracy on the test data. \n",
    "\n",
    "You can get the current time using:\n",
    "\n",
    "`import time` <br>\n",
    "`now = time.time()`\n",
    "\n",
    "*Caution*: for some configurations, learning here can take a little while (several minutes).\n",
    "\n",
    "Using the numpy where() function, one can extract the indices of the test cases that were misclassified: <br>\n",
    "`misclass = np.where(test != predictions)` <br>\n",
    "Inspect some misclassified cases. Do they correspond to hard to recognize digits (also for the human reader)? \n",
    "\n",
    "How do results (time and accuracy) change, depending on whether you consider an 'easy' binary task (e.g., distinguishing '1' and '0'), or a more difficult one (e.g., '4' vs. '5'). \n",
    "\n",
    "Identify one or several good configurations that give a reasonable combination of accuracy and runtime. Use these configurations to perform a full classification of the 10 classes in the original dataset (after split into train/test). Using `sklearn.metrics.confusion_matrix` you can get an overview of all combinations of true and predicted labels. What does this tell you about which digits are easy, and which ones are difficult to recognize, and which ones are most easily confused?"
   ]
  },
  {
   "cell_type": "code",
   "execution_count": 7,
   "metadata": {},
   "outputs": [
    {
     "name": "stdout",
     "output_type": "stream",
     "text": [
      "9881 4236\n",
      "9881 4236\n"
     ]
    }
   ],
   "source": [
    "is_all_data = False\n",
    "mnist_bin = lambda : None\n",
    "if is_all_data:\n",
    "    mnist_bin.data = mnist.data\n",
    "    mnist_bin.target = mnist.target\n",
    "else:\n",
    "    mnist_bin.data = mnist_bin_data\n",
    "    mnist_bin.target = mnist_bin_target\n",
    "\n",
    "data_training, data_test, target_training, target_test = sklearn.model_selection.train_test_split(mnist_bin.data, mnist_bin.target, test_size=0.30, train_size=0.70, random_state=None, shuffle=True, stratify=None)\n",
    "\n",
    "print(len(data_training), len(data_test))\n",
    "print(len(target_training), len(target_test))\n",
    "\n",
    "mnist_bin.data_training = data_training\n",
    "mnist_bin.data_test = data_test\n",
    "mnist_bin.target_training = target_training\n",
    "mnist_bin.target_test = target_test"
   ]
  },
  {
   "cell_type": "code",
   "execution_count": 8,
   "metadata": {},
   "outputs": [
    {
     "name": "stdout",
     "output_type": "stream",
     "text": [
      "(9881, 784)\n",
      "linear:: Time difference: 3.35465407371521 sec; Train Accuracy: 1.0; Test Accuracy: 0.983947119924457\n",
      "[[2029   35]\n",
      " [  33 2139]]\n",
      "(9881, 784)\n",
      "rbf:: Time difference: 3.958343982696533 sec; Train Accuracy: 0.9972674830482745; Test Accuracy: 0.9974032105760151\n",
      "[[2062    2]\n",
      " [   9 2163]]\n",
      "(9881, 784)\n",
      "poly:: Time difference: 3.9288153648376465 sec; Train Accuracy: 0.9986843436899099; Test Accuracy: 0.997639282341832\n",
      "[[2061    3]\n",
      " [   7 2165]]\n"
     ]
    }
   ],
   "source": [
    "kernels = ['linear', 'rbf', 'poly']\n",
    "\n",
    "def calculate_kernel_time(kernel_id):\n",
    "    start_time = time.time()\n",
    "\n",
    "    model = SVC(kernel=kernel_id)\n",
    "\n",
    "    print(mnist_bin.data_training.shape)\n",
    "    model.fit(mnist_bin.data_training, mnist_bin.target_training)\n",
    "\n",
    "    end_time = time.time()\n",
    "    return end_time - start_time, model\n",
    "\n",
    "def get_train_acc(model):\n",
    "    return sklearn.metrics.accuracy_score(mnist_bin.target_training, model.predict(mnist_bin.data_training))\n",
    "\n",
    "def get_test_acc(model):\n",
    "    return sklearn.metrics.accuracy_score(mnist_bin.target_test, model.predict(mnist_bin.data_test))\n",
    "\n",
    "for kernel in kernels:\n",
    "    linear_time_diff, model = calculate_kernel_time(kernel)\n",
    "    train_acc = get_train_acc(model)\n",
    "    accuracy = get_test_acc(model)\n",
    "    print(f\"{kernel}:: Time difference: {linear_time_diff} sec; Train Accuracy: {train_acc}; Test Accuracy: {accuracy}\")\n",
    "\n",
    "    conf_matrix = confusion_matrix(mnist_bin.target_test, model.predict(mnist_bin.data_test))\n",
    "    print(conf_matrix)\n",
    "\n",
    "    "
   ]
  },
  {
   "attachments": {},
   "cell_type": "markdown",
   "metadata": {},
   "source": [
    "**Exercise 2:** In the experiments done in Exercise 1 you applied generic \"off-the-shelf\" kernels to the original data representation given by a 28 x 28 matrix. Can you think of other data transformations that are more directly targeted at constructing features that are informative for the character recognition task (remember e.g. the exercise from last week to construct features for making the x-or data linearly separable)? You should consider the following two approaches:<br>\n",
    "\n",
    "**a)** Manually design feature functions for which you expect that based on your new features SVM classifiers can achieve a better accuracy than with the original features (ideally, given the new features, only a linear SVM then is needed). Transform the data into your new feature space, and learn new classifiers. What accuracies do you get? It is not expected that you get higher accuracies than with the best SVM from Exercise 1. What you should aim for is that you get better accuracies when you apply a linear SVM to your transformed data, than when you apply a linear SVM to the original data.\n",
    "\n",
    "**b)** Instead of designing an explicit feature mapping as in **a)**, define a suitable measure of similarity for the digits, and implement that measure as a kernel function. (Optional: verify that the function you have defined actually satisfies the positive-semidefiniteness property.) Use your kernel function as a custom kernel for the SVC classifier.  See http://scikit-learn.org/stable/auto_examples/svm/plot_custom_kernel.html#sphx-glr-auto-examples-svm-plot-custom-kernel-py for an example."
   ]
  },
  {
   "cell_type": "code",
   "execution_count": 9,
   "metadata": {},
   "outputs": [],
   "source": [
    "# print(mnist_bin.data_training[0].shape)\n",
    "# print(resize(mnist_bin.data_training[0], (32, 32), anti_aliasing=True).shape)\n",
    "\n",
    "# print(mnist_bin.data_training.shape)\n",
    "# print(mnist_bin.data_test.shape)\n",
    "# mnist_bin.data_training = np.array([resize(image, (32, 32), anti_aliasing=True) for image in mnist_bin.data_training])\n",
    "# mnist_bin.data_test = np.array([resize(image, (32, 32), anti_aliasing=True) for image in mnist_bin.data_test])\n",
    "\n",
    "# mnist_bin.data_training = mnist_bin.data_training.reshape(-1, 1024)\n",
    "# mnist_bin.data_test = mnist_bin.data_test.reshape(-1, 1024)\n",
    "\n",
    "# print(mnist_bin.data_training.shape)\n",
    "# print(mnist_bin.data_test.shape)\n",
    "\n",
    "# for kernel in kernels:\n",
    "#     linear_time_diff, model = calculate_kernel_time(kernel)\n",
    "#     train_acc = get_train_acc(model)\n",
    "#     accuracy = get_test_acc(model)\n",
    "#     print(f\"{kernel}:: Time difference: {linear_time_diff} sec; Train Accuracy: {train_acc}; Test Accuracy: {accuracy}\")\n",
    "\n",
    "#     conf_matrix = confusion_matrix(mnist_bin.target_test, model.predict(mnist_bin.data_test))\n",
    "#     print(conf_matrix)"
   ]
  },
  {
   "cell_type": "code",
   "execution_count": 11,
   "metadata": {},
   "outputs": [
    {
     "name": "stdout",
     "output_type": "stream",
     "text": [
      "poly:: Time difference: 3.9288153648376465 sec; Train Accuracy: 1.0; Test Accuracy: 0.9978753541076487\n",
      "[[2062    2]\n",
      " [   7 2165]]\n"
     ]
    }
   ],
   "source": [
    "def squared_kernel(X, Y):\n",
    "    return np.dot(X, Y.T)**2\n",
    "\n",
    "model = SVC(kernel=squared_kernel)\n",
    "model.fit(mnist_bin.data_training, mnist_bin.target_training)\n",
    "\n",
    "train_acc = get_train_acc(model)\n",
    "accuracy = get_test_acc(model)\n",
    "\n",
    "print(f\"{kernel}:: Time difference: {linear_time_diff} sec; Train Accuracy: {train_acc}; Test Accuracy: {accuracy}\")\n",
    "\n",
    "conf_matrix = confusion_matrix(mnist_bin.target_test, model.predict(mnist_bin.data_test))\n",
    "print(conf_matrix)"
   ]
  },
  {
   "cell_type": "code",
   "execution_count": 12,
   "metadata": {},
   "outputs": [
    {
     "ename": "KeyboardInterrupt",
     "evalue": "",
     "output_type": "error",
     "traceback": [
      "\u001b[1;31m---------------------------------------------------------------------------\u001b[0m",
      "\u001b[1;31mKeyboardInterrupt\u001b[0m                         Traceback (most recent call last)",
      "\u001b[1;32md:\\SKOLE\\Guthub\\ML23\\Recooking\\SelfStudy3.ipynb Cell 20\u001b[0m in \u001b[0;36m<module>\u001b[1;34m\u001b[0m\n\u001b[0;32m      <a href='vscode-notebook-cell:/d%3A/SKOLE/Guthub/ML23/Recooking/SelfStudy3.ipynb#X25sZmlsZQ%3D%3D?line=5'>6</a>\u001b[0m     \u001b[39mreturn\u001b[39;00m K\n\u001b[0;32m      <a href='vscode-notebook-cell:/d%3A/SKOLE/Guthub/ML23/Recooking/SelfStudy3.ipynb#X25sZmlsZQ%3D%3D?line=7'>8</a>\u001b[0m model \u001b[39m=\u001b[39m SVC(kernel\u001b[39m=\u001b[39mbest_kernel)\n\u001b[1;32m----> <a href='vscode-notebook-cell:/d%3A/SKOLE/Guthub/ML23/Recooking/SelfStudy3.ipynb#X25sZmlsZQ%3D%3D?line=8'>9</a>\u001b[0m model\u001b[39m.\u001b[39;49mfit(mnist_bin\u001b[39m.\u001b[39;49mdata_training, mnist_bin\u001b[39m.\u001b[39;49mtarget_training)\n\u001b[0;32m     <a href='vscode-notebook-cell:/d%3A/SKOLE/Guthub/ML23/Recooking/SelfStudy3.ipynb#X25sZmlsZQ%3D%3D?line=10'>11</a>\u001b[0m train_acc \u001b[39m=\u001b[39m get_train_acc(model)\n\u001b[0;32m     <a href='vscode-notebook-cell:/d%3A/SKOLE/Guthub/ML23/Recooking/SelfStudy3.ipynb#X25sZmlsZQ%3D%3D?line=11'>12</a>\u001b[0m accuracy \u001b[39m=\u001b[39m get_test_acc(model)\n",
      "File \u001b[1;32mc:\\Users\\chris\\AppData\\Local\\Programs\\Python\\Python39\\lib\\site-packages\\sklearn\\svm\\_base.py:255\u001b[0m, in \u001b[0;36mBaseLibSVM.fit\u001b[1;34m(self, X, y, sample_weight)\u001b[0m\n\u001b[0;32m    252\u001b[0m     \u001b[39mprint\u001b[39m(\u001b[39m\"\u001b[39m\u001b[39m[LibSVM]\u001b[39m\u001b[39m\"\u001b[39m, end\u001b[39m=\u001b[39m\u001b[39m\"\u001b[39m\u001b[39m\"\u001b[39m)\n\u001b[0;32m    254\u001b[0m seed \u001b[39m=\u001b[39m rnd\u001b[39m.\u001b[39mrandint(np\u001b[39m.\u001b[39miinfo(\u001b[39m\"\u001b[39m\u001b[39mi\u001b[39m\u001b[39m\"\u001b[39m)\u001b[39m.\u001b[39mmax)\n\u001b[1;32m--> 255\u001b[0m fit(X, y, sample_weight, solver_type, kernel, random_seed\u001b[39m=\u001b[39;49mseed)\n\u001b[0;32m    256\u001b[0m \u001b[39m# see comment on the other call to np.iinfo in this file\u001b[39;00m\n\u001b[0;32m    258\u001b[0m \u001b[39mself\u001b[39m\u001b[39m.\u001b[39mshape_fit_ \u001b[39m=\u001b[39m X\u001b[39m.\u001b[39mshape \u001b[39mif\u001b[39;00m \u001b[39mhasattr\u001b[39m(X, \u001b[39m\"\u001b[39m\u001b[39mshape\u001b[39m\u001b[39m\"\u001b[39m) \u001b[39melse\u001b[39;00m (n_samples,)\n",
      "File \u001b[1;32mc:\\Users\\chris\\AppData\\Local\\Programs\\Python\\Python39\\lib\\site-packages\\sklearn\\svm\\_base.py:297\u001b[0m, in \u001b[0;36mBaseLibSVM._dense_fit\u001b[1;34m(self, X, y, sample_weight, solver_type, kernel, random_seed)\u001b[0m\n\u001b[0;32m    293\u001b[0m \u001b[39mif\u001b[39;00m callable(\u001b[39mself\u001b[39m\u001b[39m.\u001b[39mkernel):\n\u001b[0;32m    294\u001b[0m     \u001b[39m# you must store a reference to X to compute the kernel in predict\u001b[39;00m\n\u001b[0;32m    295\u001b[0m     \u001b[39m# TODO: add keyword copy to copy on demand\u001b[39;00m\n\u001b[0;32m    296\u001b[0m     \u001b[39mself\u001b[39m\u001b[39m.\u001b[39m__Xfit \u001b[39m=\u001b[39m X\n\u001b[1;32m--> 297\u001b[0m     X \u001b[39m=\u001b[39m \u001b[39mself\u001b[39;49m\u001b[39m.\u001b[39;49m_compute_kernel(X)\n\u001b[0;32m    299\u001b[0m     \u001b[39mif\u001b[39;00m X\u001b[39m.\u001b[39mshape[\u001b[39m0\u001b[39m] \u001b[39m!=\u001b[39m X\u001b[39m.\u001b[39mshape[\u001b[39m1\u001b[39m]:\n\u001b[0;32m    300\u001b[0m         \u001b[39mraise\u001b[39;00m \u001b[39mValueError\u001b[39;00m(\u001b[39m\"\u001b[39m\u001b[39mX.shape[0] should be equal to X.shape[1]\u001b[39m\u001b[39m\"\u001b[39m)\n",
      "File \u001b[1;32mc:\\Users\\chris\\AppData\\Local\\Programs\\Python\\Python39\\lib\\site-packages\\sklearn\\svm\\_base.py:493\u001b[0m, in \u001b[0;36mBaseLibSVM._compute_kernel\u001b[1;34m(self, X)\u001b[0m\n\u001b[0;32m    489\u001b[0m \u001b[39m\"\"\"Return the data transformed by a callable kernel\"\"\"\u001b[39;00m\n\u001b[0;32m    490\u001b[0m \u001b[39mif\u001b[39;00m callable(\u001b[39mself\u001b[39m\u001b[39m.\u001b[39mkernel):\n\u001b[0;32m    491\u001b[0m     \u001b[39m# in the case of precomputed kernel given as a function, we\u001b[39;00m\n\u001b[0;32m    492\u001b[0m     \u001b[39m# have to compute explicitly the kernel matrix\u001b[39;00m\n\u001b[1;32m--> 493\u001b[0m     kernel \u001b[39m=\u001b[39m \u001b[39mself\u001b[39;49m\u001b[39m.\u001b[39;49mkernel(X, \u001b[39mself\u001b[39;49m\u001b[39m.\u001b[39;49m__Xfit)\n\u001b[0;32m    494\u001b[0m     \u001b[39mif\u001b[39;00m sp\u001b[39m.\u001b[39missparse(kernel):\n\u001b[0;32m    495\u001b[0m         kernel \u001b[39m=\u001b[39m kernel\u001b[39m.\u001b[39mtoarray()\n",
      "\u001b[1;32md:\\SKOLE\\Guthub\\ML23\\Recooking\\SelfStudy3.ipynb Cell 20\u001b[0m in \u001b[0;36mbest_kernel\u001b[1;34m(X, Y, gamma)\u001b[0m\n\u001b[0;32m      <a href='vscode-notebook-cell:/d%3A/SKOLE/Guthub/ML23/Recooking/SelfStudy3.ipynb#X25sZmlsZQ%3D%3D?line=2'>3</a>\u001b[0m \u001b[39mfor\u001b[39;00m i, x \u001b[39min\u001b[39;00m \u001b[39menumerate\u001b[39m(X):\n\u001b[0;32m      <a href='vscode-notebook-cell:/d%3A/SKOLE/Guthub/ML23/Recooking/SelfStudy3.ipynb#X25sZmlsZQ%3D%3D?line=3'>4</a>\u001b[0m     \u001b[39mfor\u001b[39;00m j, y \u001b[39min\u001b[39;00m \u001b[39menumerate\u001b[39m(Y):\n\u001b[1;32m----> <a href='vscode-notebook-cell:/d%3A/SKOLE/Guthub/ML23/Recooking/SelfStudy3.ipynb#X25sZmlsZQ%3D%3D?line=4'>5</a>\u001b[0m         K[i, j] \u001b[39m=\u001b[39m np\u001b[39m.\u001b[39mexp(\u001b[39m-\u001b[39mgamma \u001b[39m*\u001b[39m np\u001b[39m.\u001b[39;49mlinalg\u001b[39m.\u001b[39;49mnorm(x \u001b[39m-\u001b[39;49m y) \u001b[39m*\u001b[39m\u001b[39m*\u001b[39m \u001b[39m2\u001b[39m)\n\u001b[0;32m      <a href='vscode-notebook-cell:/d%3A/SKOLE/Guthub/ML23/Recooking/SelfStudy3.ipynb#X25sZmlsZQ%3D%3D?line=5'>6</a>\u001b[0m \u001b[39mreturn\u001b[39;00m K\n",
      "File \u001b[1;32m<__array_function__ internals>:200\u001b[0m, in \u001b[0;36mnorm\u001b[1;34m(*args, **kwargs)\u001b[0m\n",
      "File \u001b[1;32mc:\\Users\\chris\\AppData\\Local\\Programs\\Python\\Python39\\lib\\site-packages\\numpy\\linalg\\linalg.py:2511\u001b[0m, in \u001b[0;36mnorm\u001b[1;34m(x, ord, axis, keepdims)\u001b[0m\n\u001b[0;32m   2509\u001b[0m     sqnorm \u001b[39m=\u001b[39m x_real\u001b[39m.\u001b[39mdot(x_real) \u001b[39m+\u001b[39m x_imag\u001b[39m.\u001b[39mdot(x_imag)\n\u001b[0;32m   2510\u001b[0m \u001b[39melse\u001b[39;00m:\n\u001b[1;32m-> 2511\u001b[0m     sqnorm \u001b[39m=\u001b[39m x\u001b[39m.\u001b[39;49mdot(x)\n\u001b[0;32m   2512\u001b[0m ret \u001b[39m=\u001b[39m sqrt(sqnorm)\n\u001b[0;32m   2513\u001b[0m \u001b[39mif\u001b[39;00m keepdims:\n",
      "\u001b[1;31mKeyboardInterrupt\u001b[0m: "
     ]
    }
   ],
   "source": [
    "def best_kernel(X, Y, gamma=0.5):\n",
    "    K = np.zeros((X.shape[0], Y.shape[0]))\n",
    "    for i, x in enumerate(X):\n",
    "        for j, y in enumerate(Y):\n",
    "            K[i, j] = np.exp(-gamma * np.linalg.norm(x - y) ** 2)\n",
    "    return K\n",
    "\n",
    "model = SVC(kernel=best_kernel)\n",
    "model.fit(mnist_bin.data_training, mnist_bin.target_training)\n",
    "\n",
    "train_acc = get_train_acc(model)\n",
    "accuracy = get_test_acc(model)\n",
    "\n",
    "print(f\"{kernel}:: Time difference: {linear_time_diff} sec; Train Accuracy: {train_acc}; Test Accuracy: {accuracy}\")\n",
    "\n",
    "conf_matrix = confusion_matrix(mnist_bin.target_test, model.predict(mnist_bin.data_test))\n",
    "print(conf_matrix)"
   ]
  }
 ],
 "metadata": {
  "kernelspec": {
   "display_name": "Python 3 (ipykernel)",
   "language": "python",
   "name": "python3"
  },
  "language_info": {
   "codemirror_mode": {
    "name": "ipython",
    "version": 3
   },
   "file_extension": ".py",
   "mimetype": "text/x-python",
   "name": "python",
   "nbconvert_exporter": "python",
   "pygments_lexer": "ipython3",
   "version": "3.9.4"
  }
 },
 "nbformat": 4,
 "nbformat_minor": 2
}
