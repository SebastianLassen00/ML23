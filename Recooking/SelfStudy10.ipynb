{
 "cells": [
  {
   "attachments": {},
   "cell_type": "markdown",
   "metadata": {},
   "source": [
    "In this self study you will explore Pyro a bit further, bu as opposed to the last self study session where focus was on modeling we will here take a slightly closer lool at (variational) inference. in Pyro \n",
    "\n",
    "Before starting on today's self studies, you should finish the self studies from last tme if you have not already done so. Also, if needed, consider revisiting the Pyro documentation listed under reading material for the last two lectures:\n",
    "* http://pyro.ai/examples/intro_long.html\n",
    "* http://pyro.ai/examples/bayesian_regression.html\n",
    "* http://pyro.ai/examples/svi_part_i.html\n",
    "\n",
    "Afterwards, continue with the notebook below, where we consider (Bayesian) linear regression using Pyro based on the same setup as in the lecture. "
   ]
  },
  {
   "cell_type": "code",
   "execution_count": 1,
   "metadata": {},
   "outputs": [
    {
     "name": "stderr",
     "output_type": "stream",
     "text": [
      "c:\\Users\\chris\\AppData\\Local\\Programs\\Python\\Python39\\lib\\site-packages\\tqdm\\auto.py:22: TqdmWarning: IProgress not found. Please update jupyter and ipywidgets. See https://ipywidgets.readthedocs.io/en/stable/user_install.html\n",
      "  from .autonotebook import tqdm as notebook_tqdm\n"
     ]
    }
   ],
   "source": [
    "import pyro\n",
    "import torch\n",
    "import matplotlib\n",
    "#matplotlib.use('TkAgg')\n",
    "%matplotlib inline\n",
    "import matplotlib.pyplot as plt\n",
    "import pyro.distributions as dist\n",
    "import torch.distributions.constraints as constraints\n",
    "from pyro.infer import SVI, Trace_ELBO\n",
    "from pyro.optim import Adam, SGD\n",
    "import numpy as np\n",
    "\n",
    "import os\n",
    "os.environ['KMP_DUPLICATE_LIB_OK']='True'"
   ]
  },
  {
   "attachments": {},
   "cell_type": "markdown",
   "metadata": {},
   "source": [
    "### Generate data\n",
    "This data generation is similar to what was done during the lecture; we have one predictor variable 'x' and one response variable 'y', but here collected in a  dictionary."
   ]
  },
  {
   "cell_type": "code",
   "execution_count": 108,
   "metadata": {},
   "outputs": [],
   "source": [
    "def generate_data(N=10, true_w0= 1., true_w1=.5):\n",
    "    gamma = 4.  # The *precision* in the observation noise\n",
    "    st_dev = 0.1 / np.sqrt(gamma)  # And corresponding standard deviation\n",
    "    np.random.seed(123)\n",
    "    x = 5 * np.random.rand(N)  # The x-points are sampled uniformly on [0, 5]\n",
    "    y = np.random.normal(loc=true_w0 + true_w1 * x, scale=st_dev)  # And the response is sampled from the Normal\n",
    "    return {\"x\": torch.tensor(x, dtype=torch.float), \"y\": torch.tensor(y, dtype=torch.float)}"
   ]
  },
  {
   "attachments": {},
   "cell_type": "markdown",
   "metadata": {},
   "source": [
    "Helper function for visualizing the data as well as the true and learned functions"
   ]
  },
  {
   "cell_type": "code",
   "execution_count": 109,
   "metadata": {},
   "outputs": [],
   "source": [
    "def data_plotter(data, true_w0=None, true_w1=None,\n",
    "                 approx_w0=None, approx_w1=None):\n",
    "    \"\"\"\n",
    "    Use to plot data. If y is not none it contains responses, and (x,y) will be scatter-plotted\n",
    "    If neither true_w0 nor true_w1 is None, we will plot the line true_w0 + x * true_w1 in red.\n",
    "    If neither approx_w0 nor approx_w1 is None, we plot the line approx_w0 + x * approx_w1 in green.\n",
    "    \"\"\"\n",
    "    if data is not None:\n",
    "        plt.plot(data[\"x\"].numpy(), data[\"y\"].numpy(), \"bo\")\n",
    "\n",
    "    # Plot true line if given\n",
    "    if true_w0 is not None and true_w1 is not None:\n",
    "        plt.plot(data[\"x\"].numpy(), true_w0 + true_w1 * data[\"x\"].numpy(), \"r-\")\n",
    "\n",
    "    # Plot approximation if given\n",
    "    if approx_w0 is not None and approx_w1 is not None:\n",
    "        plt.plot(data[\"x\"].numpy(), approx_w0+ approx_w1* data[\"x\"].numpy(), \"g-\", alpha=.2)\n"
   ]
  },
  {
   "attachments": {},
   "cell_type": "markdown",
   "metadata": {},
   "source": [
    "Generate a data set with 50 data points"
   ]
  },
  {
   "cell_type": "code",
   "execution_count": 110,
   "metadata": {},
   "outputs": [],
   "source": [
    "true_w0= 1.\n",
    "true_w1=.5\n",
    "data = generate_data(N=100, true_w0=true_w0, true_w1=true_w1)"
   ]
  },
  {
   "attachments": {},
   "cell_type": "markdown",
   "metadata": {},
   "source": [
    "Plot the data together with the regression line around which the data has been generated."
   ]
  },
  {
   "cell_type": "code",
   "execution_count": 111,
   "metadata": {},
   "outputs": [
    {
     "data": {
      "image/png": "[encoded data removed]",
      "text/plain": [
       "<Figure size 432x288 with 1 Axes>"
      ]
     },
     "metadata": {
      "needs_background": "light"
     },
     "output_type": "display_data"
    }
   ],
   "source": [
    "data_plotter(data, true_w0=true_w0, true_w1=true_w1)"
   ]
  },
  {
   "attachments": {},
   "cell_type": "markdown",
   "metadata": {},
   "source": [
    "## Specification of the Pyro model and guide"
   ]
  },
  {
   "attachments": {},
   "cell_type": "markdown",
   "metadata": {},
   "source": [
    "Here we specify a (Bayesian) linear regression model in Pyro. The 'data' argument is a dictionary covering the data of the predictor and response variable"
   ]
  },
  {
   "cell_type": "code",
   "execution_count": 112,
   "metadata": {},
   "outputs": [],
   "source": [
    "def lin_reg_model(data):\n",
    "\n",
    "    w0 = pyro.sample(\"w0\", dist.Normal(0.0, 1.0))\n",
    "    w1 = pyro.sample(\"w1\", dist.Normal(0.0, 1000.0))\n",
    "\n",
    "    with pyro.plate(\"data_plate\"):\n",
    "        pyro.sample(\"y\", dist.Normal(data[\"x\"] * w1 + w0, 1.0), obs=data[\"y\"])"
   ]
  },
  {
   "attachments": {},
   "cell_type": "markdown",
   "metadata": {},
   "source": [
    "Here we specify the variational distribution, which is called a guide in Pyro. We make the mean field assumption and assume that the variational distribution factorizes wrt. to 'w0' and 'w1'."
   ]
  },
  {
   "cell_type": "code",
   "execution_count": 113,
   "metadata": {},
   "outputs": [],
   "source": [
    "def lin_reg_guide(data):\n",
    "    w0_mean = pyro.param(\"w0_mean\", torch.tensor(1.0))\n",
    "    w0_scale = pyro.param(\"w0_scale\", torch.tensor(1.0), constraint=constraints.positive)\n",
    "    pyro.sample(\"w0\", dist.Normal(w0_mean, w0_scale))\n",
    "    \n",
    "    w1_mean = pyro.param(\"w1_mean\", torch.tensor(0.0))\n",
    "    w1_scale = pyro.param(\"w1_scale\", torch.tensor(1.0), constraint=constraints.positive)\n",
    "    pyro.sample(\"w1\", dist.Normal(w1_mean, w1_scale))"
   ]
  },
  {
   "attachments": {},
   "cell_type": "markdown",
   "metadata": {},
   "source": [
    "### Learning\n",
    "\n",
    "In this function the actual learning is taking place. Notice that the structure is similar to what we saw in the example notebooks during the lecture."
   ]
  },
  {
   "cell_type": "code",
   "execution_count": 117,
   "metadata": {},
   "outputs": [],
   "source": [
    "def learn(N=10, data=None):\n",
    "    if data is None:\n",
    "        data = generate_data(N=N)\n",
    "\n",
    "    pyro.clear_param_store()\n",
    "\n",
    "    elbo = pyro.infer.Trace_ELBO()\n",
    "    svi = pyro.infer.SVI(model=lin_reg_model,\n",
    "                         guide=lin_reg_guide,\n",
    "                         optim=SGD({\"lr\": 0.0001}),\n",
    "                         loss=elbo)\n",
    "\n",
    "    num_steps = 5000\n",
    "    for step in range(num_steps):\n",
    "        loss = svi.step(data)\n",
    "\n",
    "        if step % 100 == 0:\n",
    "            w0_mean = pyro.param(\"w0_mean\").detach().item()\n",
    "            w0_scale = pyro.param(\"w0_scale\").detach().item()\n",
    "            w1_mean = pyro.param(\"w1_mean\").detach().item()\n",
    "            w1_scale = pyro.param(\"w1_scale\").detach().item()\n",
    "            print(f\"Loss (iter: {step}): {loss}\")\n",
    "            print(f\"w0: {w0_mean} +/- {w0_scale}\\t \\t w1: {w1_mean} +/- {w1_scale}\")"
   ]
  },
  {
   "cell_type": "code",
   "execution_count": 118,
   "metadata": {},
   "outputs": [
    {
     "name": "stdout",
     "output_type": "stream",
     "text": [
      "Loss (iter: 0): 536.1274846792221\n",
      "w0: 0.9722892045974731 +/- 0.9843472242355347\t \t w1: -0.08223489671945572 +/- 0.8934556841850281\n",
      "Loss (iter: 100): 121.00818210840225\n",
      "w0: 1.114156723022461 +/- 0.600652277469635\t \t w1: 0.5046518445014954 +/- 0.2339170277118683\n",
      "Loss (iter: 200): 117.21474361419678\n",
      "w0: 1.0714117288589478 +/- 0.4524116516113281\t \t w1: 0.46649059653282166 +/- 0.17621557414531708\n",
      "Loss (iter: 300): 115.32416754961014\n",
      "w0: 1.0548319816589355 +/- 0.3931651711463928\t \t w1: 0.4818738102912903 +/- 0.14347338676452637\n",
      "Loss (iter: 400): 104.53887039422989\n",
      "w0: 1.0512292385101318 +/- 0.3652747571468353\t \t w1: 0.47968021035194397 +/- 0.12568451464176178\n",
      "Loss (iter: 500): 114.42244452238083\n",
      "w0: 1.030500054359436 +/- 0.32562610507011414\t \t w1: 0.46134376525878906 +/- 0.11311579495668411\n",
      "Loss (iter: 600): 106.62713700532913\n",
      "w0: 1.0428451299667358 +/- 0.2967079281806946\t \t w1: 0.5372744798660278 +/- 0.10352716594934464\n",
      "Loss (iter: 700): 107.17946290969849\n",
      "w0: 1.0225197076797485 +/- 0.2751595079898834\t \t w1: 0.5212580561637878 +/- 0.09685099869966507\n",
      "Loss (iter: 800): 123.97005116939545\n",
      "w0: 1.0075702667236328 +/- 0.26172465085983276\t \t w1: 0.5112733840942383 +/- 0.09168686717748642\n",
      "Loss (iter: 900): 106.43425869941711\n",
      "w0: 1.0039602518081665 +/- 0.24567830562591553\t \t w1: 0.520153820514679 +/- 0.08707880228757858\n",
      "Loss (iter: 1000): 104.2823326587677\n",
      "w0: 0.9844575524330139 +/- 0.23673667013645172\t \t w1: 0.4617981016635895 +/- 0.0839582160115242\n",
      "Loss (iter: 1100): 107.47235453128815\n",
      "w0: 0.9825734496116638 +/- 0.2300318032503128\t \t w1: 0.4837610125541687 +/- 0.08116460591554642\n",
      "Loss (iter: 1200): 103.66186702251434\n",
      "w0: 0.9953926801681519 +/- 0.22080688178539276\t \t w1: 0.5216699838638306 +/- 0.07822900265455246\n",
      "Loss (iter: 1300): 103.16157329082489\n",
      "w0: 0.9819739460945129 +/- 0.21085157990455627\t \t w1: 0.5146436095237732 +/- 0.07604334503412247\n",
      "Loss (iter: 1400): 105.82362270355225\n",
      "w0: 0.9731336236000061 +/- 0.2041798233985901\t \t w1: 0.5007770657539368 +/- 0.07404091209173203\n",
      "Loss (iter: 1500): 108.7465552687645\n",
      "w0: 0.9825088381767273 +/- 0.19487859308719635\t \t w1: 0.5314167737960815 +/- 0.07130496948957443\n",
      "Loss (iter: 1600): 106.77104365825653\n",
      "w0: 0.9576091766357422 +/- 0.19062748551368713\t \t w1: 0.4811329245567322 +/- 0.06944149732589722\n",
      "Loss (iter: 1700): 115.55045592784882\n",
      "w0: 0.9627958536148071 +/- 0.18560591340065002\t \t w1: 0.5080277323722839 +/- 0.06700869649648666\n",
      "Loss (iter: 1800): 109.52263236045837\n",
      "w0: 0.9551858901977539 +/- 0.1797737181186676\t \t w1: 0.5017253756523132 +/- 0.06528127938508987\n",
      "Loss (iter: 1900): 104.05965256690979\n",
      "w0: 0.9564436674118042 +/- 0.17646782100200653\t \t w1: 0.5097261071205139 +/- 0.06437195092439651\n",
      "Loss (iter: 2000): 106.97816002368927\n",
      "w0: 0.950491189956665 +/- 0.17143027484416962\t \t w1: 0.48984986543655396 +/- 0.06289296597242355\n",
      "Loss (iter: 2100): 105.8122923374176\n",
      "w0: 0.9643828868865967 +/- 0.1693231761455536\t \t w1: 0.5306254625320435 +/- 0.061341430991888046\n",
      "Loss (iter: 2200): 104.09975063800812\n",
      "w0: 0.9594142436981201 +/- 0.1661330610513687\t \t w1: 0.5019837021827698 +/- 0.06037164479494095\n",
      "Loss (iter: 2300): 108.14288580417633\n",
      "w0: 0.957671046257019 +/- 0.16303960978984833\t \t w1: 0.5080703496932983 +/- 0.059543807059526443\n",
      "Loss (iter: 2400): 104.22819006443024\n",
      "w0: 0.954352080821991 +/- 0.16056227684020996\t \t w1: 0.5070152282714844 +/- 0.05861412361264229\n",
      "Loss (iter: 2500): 104.743905544281\n",
      "w0: 0.9528197646141052 +/- 0.15743492543697357\t \t w1: 0.5069384574890137 +/- 0.05743821710348129\n",
      "Loss (iter: 2600): 104.15564787387848\n",
      "w0: 0.9645041823387146 +/- 0.15575538575649261\t \t w1: 0.534991979598999 +/- 0.05657908692955971\n",
      "Loss (iter: 2700): 104.34643733501434\n",
      "w0: 0.9582579135894775 +/- 0.151922807097435\t \t w1: 0.5161935687065125 +/- 0.056009918451309204\n",
      "Loss (iter: 2800): 104.71564972400665\n",
      "w0: 0.9491769075393677 +/- 0.14980272948741913\t \t w1: 0.49911946058273315 +/- 0.05515492334961891\n",
      "Loss (iter: 2900): 104.36683344841003\n",
      "w0: 0.9647790193557739 +/- 0.14806635677814484\t \t w1: 0.5348274111747742 +/- 0.05451245605945587\n",
      "Loss (iter: 3000): 105.33627140522003\n",
      "w0: 0.9576363563537598 +/- 0.14614485204219818\t \t w1: 0.5169979929924011 +/- 0.05343407019972801\n",
      "Loss (iter: 3100): 104.32219779491425\n",
      "w0: 0.961226761341095 +/- 0.14360558986663818\t \t w1: 0.5274481773376465 +/- 0.05298738181591034\n",
      "Loss (iter: 3200): 105.69811415672302\n",
      "w0: 0.9560250043869019 +/- 0.142421156167984\t \t w1: 0.5205931663513184 +/- 0.05242451652884483\n",
      "Loss (iter: 3300): 105.09315824508667\n",
      "w0: 0.9505525231361389 +/- 0.1409001350402832\t \t w1: 0.48750728368759155 +/- 0.0519845075905323\n",
      "Loss (iter: 3400): 106.52225542068481\n",
      "w0: 0.9596800804138184 +/- 0.13989196717739105\t \t w1: 0.5284308791160583 +/- 0.051441490650177\n",
      "Loss (iter: 3500): 104.59325563907623\n",
      "w0: 0.9633408188819885 +/- 0.13844212889671326\t \t w1: 0.5364984273910522 +/- 0.05104919150471687\n",
      "Loss (iter: 3600): 104.78371047973633\n",
      "w0: 0.962038516998291 +/- 0.1375514268875122\t \t w1: 0.5302000045776367 +/- 0.050577420741319656\n",
      "Loss (iter: 3700): 105.02269077301025\n",
      "w0: 0.9556903839111328 +/- 0.1363552361726761\t \t w1: 0.5101276636123657 +/- 0.04987023025751114\n",
      "Loss (iter: 3800): 103.29166603088379\n",
      "w0: 0.9570209980010986 +/- 0.13526876270771027\t \t w1: 0.5181242227554321 +/- 0.04968203231692314\n",
      "Loss (iter: 3900): 105.83647418022156\n",
      "w0: 0.9503961205482483 +/- 0.1345171332359314\t \t w1: 0.5038787722587585 +/- 0.04920846223831177\n",
      "Loss (iter: 4000): 107.21333765983582\n",
      "w0: 0.9446195960044861 +/- 0.13345840573310852\t \t w1: 0.49212193489074707 +/- 0.04900648444890976\n",
      "Loss (iter: 4100): 105.54894042015076\n",
      "w0: 0.9561091661453247 +/- 0.13225200772285461\t \t w1: 0.5273089408874512 +/- 0.04876382648944855\n",
      "Loss (iter: 4200): 105.18750059604645\n",
      "w0: 0.9479931592941284 +/- 0.13068006932735443\t \t w1: 0.5036200284957886 +/- 0.04839034378528595\n",
      "Loss (iter: 4300): 105.36307501792908\n",
      "w0: 0.9570112824440002 +/- 0.12969717383384705\t \t w1: 0.5239930152893066 +/- 0.047830112278461456\n",
      "Loss (iter: 4400): 104.69565808773041\n",
      "w0: 0.9516242742538452 +/- 0.12954479455947876\t \t w1: 0.5017508268356323 +/- 0.04744948819279671\n",
      "Loss (iter: 4500): 104.6075930595398\n",
      "w0: 0.9558414220809937 +/- 0.12925642728805542\t \t w1: 0.5162549018859863 +/- 0.04721953719854355\n",
      "Loss (iter: 4600): 105.36482775211334\n",
      "w0: 0.9602231383323669 +/- 0.12817274034023285\t \t w1: 0.5233810544013977 +/- 0.04667219519615173\n",
      "Loss (iter: 4700): 108.91091001033783\n",
      "w0: 0.9565774202346802 +/- 0.1275583654642105\t \t w1: 0.5132462382316589 +/- 0.046336591243743896\n",
      "Loss (iter: 4800): 104.54177176952362\n",
      "w0: 0.9603458642959595 +/- 0.12697432935237885\t \t w1: 0.5173564553260803 +/- 0.045969463884830475\n",
      "Loss (iter: 4900): 104.56041419506073\n",
      "w0: 0.9643421173095703 +/- 0.12614350020885468\t \t w1: 0.5193278789520264 +/- 0.04563427343964577\n"
     ]
    }
   ],
   "source": [
    "learn(data=data)"
   ]
  },
  {
   "attachments": {},
   "cell_type": "markdown",
   "metadata": {},
   "source": [
    "### Analyze the results\n",
    "\n",
    "Here we sample weights from the posterior distributions over 'w0' and 'w1'. The distribution of the generated weights (and the corresponding models) illustrates how confident we are in the model, an insight you cannot get when only having point estimates of the model parameters as found with, e.g., maximum likelihood learning. "
   ]
  },
  {
   "cell_type": "code",
   "execution_count": 122,
   "metadata": {},
   "outputs": [
    {
     "data": {
      "image/png": "[encoded data removed]",
      "text/plain": [
       "<Figure size 432x288 with 1 Axes>"
      ]
     },
     "metadata": {
      "needs_background": "light"
     },
     "output_type": "display_data"
    }
   ],
   "source": [
    "for _ in range(100):\n",
    "    w0_mean = pyro.param(\"w0_mean\").detach().item()\n",
    "    w0_scale = pyro.param(\"w0_scale\").detach().item()\n",
    "    w1_mean = pyro.param(\"w1_mean\").detach().item()\n",
    "    w1_scale = pyro.param(\"w1_scale\").detach().item()\n",
    "    w0_sample = pyro.sample(\"w0_sample\", dist.Normal(w0_mean, w0_scale)).numpy()\n",
    "    w1_sample = pyro.sample(\"w1_sample\", dist.Normal(w1_mean, w1_scale)).numpy()\n",
    "    data_plotter(data, approx_w0=w0_sample, approx_w1=w1_sample)\n",
    "data_plotter(data)\n",
    "plt.show()"
   ]
  },
  {
   "attachments": {},
   "cell_type": "markdown",
   "metadata": {},
   "source": [
    "## Exercises:\n",
    "* Generate data sets of varying sizes and characteristics (by changing the parameters in the 'generate_data' function) and investigate and compare the resulting models.\n",
    "* Analyze how learning is affected by changing the learning rate and the initial values of the parameters specified in the guide function.\n",
    "* Experiment with different types of prior knowledge in the model specification (e.g. change the mean and scale of the distributions over the weights). For instance, we may (mostly likely erroneously considering the data) have a prior expectation that 'w0' is around 5.0, and we can encode the strength of this belief through the scale of the corresponding distribution. "
   ]
  },
  {
   "cell_type": "code",
   "execution_count": null,
   "metadata": {},
   "outputs": [],
   "source": []
  }
 ],
 "metadata": {
  "kernelspec": {
   "display_name": "Python 3",
   "language": "python",
   "name": "python3"
  },
  "language_info": {
   "codemirror_mode": {
    "name": "ipython",
    "version": 3
   },
   "file_extension": ".py",
   "mimetype": "text/x-python",
   "name": "python",
   "nbconvert_exporter": "python",
   "pygments_lexer": "ipython3",
   "version": "3.9.4"
  }
 },
 "nbformat": 4,
 "nbformat_minor": 4
}
