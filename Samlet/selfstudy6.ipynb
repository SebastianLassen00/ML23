{
 "cells": [
  {
   "attachments": {},
   "cell_type": "markdown",
   "metadata": {},
   "source": [
    "# Self study 1\n",
    "\n",
    "In this self study you should work on the code examples below together with the associated questions. The notebook illustrates a basic neural network implementation, where we implement most of the relevant functions from scratch, except for the calculation of the gradients, for which we rely on the functionality provided by <a urel=\"https://pytorch.org\">PyTorch</a>. \n",
    "\n",
    "Since we rely on PyTorch functionality, we will also be using PyTorch's tensor data structure. This data structure operates in much the same way as numpy's ndarrays. You can find a brief introduction to PyTorch's tensors <a href=\"https://pytorch.org/tutorials/beginner/basics/tensorqs_tutorial.html\">here</a>.  \n",
    "\n",
    "\n",
    "\n",
    "The code illustrates the key concepts involved in the learning neural network. Go carefully through the code before starting to answer the questions at the end."
   ]
  },
  {
   "attachments": {},
   "cell_type": "markdown",
   "metadata": {},
   "source": [
    "First we import the modules used in this selfstudy"
   ]
  },
  {
   "cell_type": "code",
   "execution_count": 59,
   "metadata": {},
   "outputs": [],
   "source": [
    "import torch\n",
    "from torchvision import datasets, transforms\n",
    "from matplotlib import pyplot\n",
    "import matplotlib.pyplot as plt\n",
    "import numpy as np"
   ]
  },
  {
   "attachments": {},
   "cell_type": "markdown",
   "metadata": {},
   "source": [
    "Through torch load the MNIST data set, which we will use in this self study. The MNIST database consists of grey scale images of handwritten digits. Each image is of size $28\\times 28$; see figure below for an illustration. The data set is divided into a training set consisting of $60000$ images and a test set with $10000$ images; in both\n",
    "data sets the images are labeled with the correct digits. If interested, you can find more information about the MNIST data set at http://yann.lecun.com/exdb/mnist/, including accuracy results for various machine learning methods.\n",
    "\n",
    "![MNIST DATA](MNIST-dataset.png)"
   ]
  },
  {
   "attachments": {},
   "cell_type": "markdown",
   "metadata": {},
   "source": [
    "Using the data loader provided by torch we have an easy way of loading in data in batches (here of size 64). We can also make various other transformation of the data, such as normalization. The details for loading the data are not really that important, but if yiu are curious, you can find a quick introduction <a href=\"https://pytorch.org/tutorials/beginner/basics/quickstart_tutorial.html\">here</a>."
   ]
  },
  {
   "cell_type": "code",
   "execution_count": 60,
   "metadata": {},
   "outputs": [],
   "source": [
    "batch_size = 64 \n",
    "train_loader = torch.utils.data.DataLoader(\n",
    "        train_data,\n",
    "        batch_size=batch_size, shuffle=True)\n",
    "\n",
    "test_loader = torch.utils.data.DataLoader(\n",
    "        test_data,\n",
    "        batch_size=batch_size, shuffle=True)\n"
   ]
  },
  {
   "attachments": {},
   "cell_type": "markdown",
   "metadata": {},
   "source": [
    "In the cell above, we are loading data in batches, which is subsequently used during optimization. We didn't discuss batch based learning during the last lecture, but please take a look at Slides 24 and 25 to get the gist of the approach. We will cover it in more detail during the next lecture.   \n",
    "\n",
    "Each batch is a list of two elements. The first element encodes the digit and has dimensions [64,1,28,28] (the figures are greyscale with no rbg channel, hence the '1'), and the second element contains the class/label information. "
   ]
  },
  {
   "cell_type": "code",
   "execution_count": 61,
   "metadata": {},
   "outputs": [
    {
     "name": "stdout",
     "output_type": "stream",
     "text": [
      "Batch dimension (digit): torch.Size([128, 1, 28, 28])\n",
      "Batch dimension (target): torch.Size([128])\n",
      "Target: 0 with shape torch.Size([])\n"
     ]
    },
    {
     "data": {
      "image/png": "[encoded data removed]",
      "text/plain": [
       "<Figure size 640x480 with 1 Axes>"
      ]
     },
     "metadata": {},
     "output_type": "display_data"
    }
   ],
   "source": [
    "batch = iter(train_loader).__next__()\n",
    "print(f\"Batch dimension (digit): {batch[0].shape}\")\n",
    "print(f\"Batch dimension (target): {batch[1].shape}\")\n",
    "digit_batch = batch[0]\n",
    "img = digit_batch[0,:]\n",
    "pyplot.imshow(img.reshape((28, 28)), cmap=\"gray\")\n",
    "print(f\"Target: {batch[1][0]} with shape {batch[1][0].shape}\")"
   ]
  },
  {
   "attachments": {},
   "cell_type": "markdown",
   "metadata": {},
   "source": [
    "With PyTorch we can specify that the tensors require gradients. This will make PyTorch record all operations performed on the tensors, so that we can afterwards calculate the gradients automatically using back propagation. See also the code example from the last lecture."
   ]
  },
  {
   "attachments": {},
   "cell_type": "markdown",
   "metadata": {},
   "source": [
    "For the first part of this self study we will specify a neural network, which will encode a softmax function (see, e.g., Page 180 in <a href=\"https://www.deeplearningbook.org/contents/mlp.html\">The Deep Learning book</a>). For this we need a (randomly initialized) weight matrix and a bias, and for both of them we need their gradients wrt. our error function (yet to be defined) in order to perform learning. Note that to facilitate matrix multiplication we will flatten our image from $28\\times 28$ to $784$. "
   ]
  },
  {
   "cell_type": "code",
   "execution_count": 1,
   "metadata": {},
   "outputs": [
    {
     "ename": "NameError",
     "evalue": "name 'torch' is not defined",
     "output_type": "error",
     "traceback": [
      "\u001b[1;31m---------------------------------------------------------------------------\u001b[0m",
      "\u001b[1;31mNameError\u001b[0m                                 Traceback (most recent call last)",
      "\u001b[1;32md:\\SKOLE\\Guthub\\ML23\\Samlet\\selfstudy6.ipynb Cell 11\u001b[0m in \u001b[0;36m<module>\u001b[1;34m\u001b[0m\n\u001b[1;32m----> <a href='vscode-notebook-cell:/d%3A/SKOLE/Guthub/ML23/Samlet/selfstudy6.ipynb#X13sZmlsZQ%3D%3D?line=0'>1</a>\u001b[0m weights \u001b[39m=\u001b[39m torch\u001b[39m.\u001b[39mrandn(\u001b[39m784\u001b[39m, \u001b[39m10\u001b[39m) \u001b[39m/\u001b[39m \u001b[39m2\u001b[39m \u001b[39m# / np.sqrt(784)\u001b[39;00m\n\u001b[0;32m      <a href='vscode-notebook-cell:/d%3A/SKOLE/Guthub/ML23/Samlet/selfstudy6.ipynb#X13sZmlsZQ%3D%3D?line=1'>2</a>\u001b[0m weights\u001b[39m.\u001b[39mrequires_grad_()\n\u001b[0;32m      <a href='vscode-notebook-cell:/d%3A/SKOLE/Guthub/ML23/Samlet/selfstudy6.ipynb#X13sZmlsZQ%3D%3D?line=2'>3</a>\u001b[0m bias \u001b[39m=\u001b[39m torch\u001b[39m.\u001b[39mzeros(\u001b[39m10\u001b[39m, requires_grad\u001b[39m=\u001b[39m\u001b[39mTrue\u001b[39;00m)\n",
      "\u001b[1;31mNameError\u001b[0m: name 'torch' is not defined"
     ]
    }
   ],
   "source": [
    "weights = torch.randn(784, 10) / 2 # / np.sqrt(784)\n",
    "weights.requires_grad_()\n",
    "bias = torch.zeros(10, requires_grad=True)"
   ]
  },
  {
   "attachments": {},
   "cell_type": "markdown",
   "metadata": {},
   "source": [
    "Out model specification"
   ]
  },
  {
   "cell_type": "code",
   "execution_count": 63,
   "metadata": {},
   "outputs": [],
   "source": [
    "def softmax(x):\n",
    "    return x.exp() / x.exp().sum(-1).unsqueeze(-1)\n",
    "\n",
    "def model(xb):\n",
    "    return softmax(xb @ weights + bias)"
   ]
  },
  {
   "attachments": {},
   "cell_type": "markdown",
   "metadata": {},
   "source": [
    "Let's test our model (with our randomly initialized weights)"
   ]
  },
  {
   "cell_type": "code",
   "execution_count": 64,
   "metadata": {},
   "outputs": [
    {
     "name": "stdout",
     "output_type": "stream",
     "text": [
      "Batch shape: torch.Size([128, 784])\n",
      "Prediction on first image tensor([5.4399e-24, 1.7709e-05, 2.4122e-10, 5.9913e-16, 5.0132e-15, 1.9042e-13,\n",
      "        1.0635e-01, 1.1190e-29, 8.9364e-01, 1.8254e-18],\n",
      "       grad_fn=<SelectBackward0>)\n",
      "Corresponding classification: 8\n"
     ]
    }
   ],
   "source": [
    "# We flatten the digit representation so that it is consistent with the weight matrix\n",
    "xb = digit_batch.flatten(start_dim=1)\n",
    "print(f\"Batch shape: {xb.shape}\")\n",
    "preds = model(xb)\n",
    "print(f\"Prediction on first image {preds[0]}\")\n",
    "print(f\"Corresponding classification: {preds[0].argmax()}\")"
   ]
  },
  {
   "attachments": {},
   "cell_type": "markdown",
   "metadata": {},
   "source": [
    "Next we define our loss function, in this case the log-loss (or negative log-likelihood):"
   ]
  },
  {
   "cell_type": "code",
   "execution_count": 65,
   "metadata": {},
   "outputs": [
    {
     "name": "stdout",
     "output_type": "stream",
     "text": [
      "tensor(24.5308, grad_fn=<MeanBackward0>)\n"
     ]
    }
   ],
   "source": [
    "def nll(input, target):\n",
    "    return (-input[range(target.shape[0]), target].log()).mean() \n",
    "loss_func = nll\n",
    "\n",
    "# Make a test calculation\n",
    "yb = batch[1]\n",
    "print(loss_func(preds,yb))"
   ]
  },
  {
   "attachments": {},
   "cell_type": "markdown",
   "metadata": {},
   "source": [
    "In the end, we are interested in the accuracy of our model"
   ]
  },
  {
   "cell_type": "code",
   "execution_count": 66,
   "metadata": {},
   "outputs": [],
   "source": [
    "def accuracy(out, yb):\n",
    "    preds = torch.argmax(out, dim=1)\n",
    "    return (preds == yb).float().mean()"
   ]
  },
  {
   "cell_type": "code",
   "execution_count": 81,
   "metadata": {},
   "outputs": [
    {
     "name": "stdout",
     "output_type": "stream",
     "text": [
      "Accuracy of model on batch (with random weights): 0.09375\n",
      "tensor([[ 0.7171, -0.4364, -0.1157,  ..., -0.5465,  0.5192, -0.0909],\n",
      "        [ 0.6463,  0.5491, -0.0922,  ...,  1.2304,  0.4992,  0.4304],\n",
      "        [ 0.0507,  0.0189,  0.8689,  ..., -0.2495, -0.6176, -0.4601],\n",
      "        ...,\n",
      "        [-0.0216,  0.3423,  0.2241,  ..., -0.4281, -0.5122, -0.5243],\n",
      "        [-0.4353,  0.6075, -0.5323,  ...,  0.0161, -0.0138,  0.0018],\n",
      "        [ 0.5551, -0.2806,  0.1962,  ..., -0.1313, -0.5951, -0.5615]],\n",
      "       requires_grad=True)\n",
      "tensor([[ 0.7171,  0.6463,  0.0507,  ..., -0.0216, -0.4353,  0.5551],\n",
      "        [-0.4364,  0.5491,  0.0189,  ...,  0.3423,  0.6075, -0.2806],\n",
      "        [-0.1157, -0.0922,  0.8689,  ...,  0.2241, -0.5323,  0.1962],\n",
      "        ...,\n",
      "        [-0.5465,  1.2304, -0.2495,  ..., -0.4281,  0.0161, -0.1313],\n",
      "        [ 0.5192,  0.4992, -0.6176,  ..., -0.5122, -0.0138, -0.5951],\n",
      "        [-0.0909,  0.4304, -0.4601,  ..., -0.5243,  0.0018, -0.5615]],\n",
      "       grad_fn=<TransposeBackward0>)\n"
     ]
    },
    {
     "data": {
      "text/plain": [
       "tensor([[5.1419e-01, 1.9041e-01, 1.3386e-02,  ..., 2.9872e-01, 2.6953e-01,\n",
       "         8.2673e-03],\n",
       "        [4.1771e-01, 3.0154e-01, 8.4997e-03,  ..., 1.5139e+00, 2.4921e-01,\n",
       "         1.8526e-01],\n",
       "        [2.5720e-03, 3.5805e-04, 7.5490e-01,  ..., 6.2262e-02, 3.8144e-01,\n",
       "         2.1172e-01],\n",
       "        ...,\n",
       "        [4.6680e-04, 1.1715e-01, 5.0209e-02,  ..., 1.8331e-01, 2.6235e-01,\n",
       "         2.7489e-01],\n",
       "        [1.8950e-01, 3.6908e-01, 2.8331e-01,  ..., 2.6013e-04, 1.9116e-04,\n",
       "         3.2657e-06],\n",
       "        [3.0809e-01, 7.8738e-02, 3.8477e-02,  ..., 1.7252e-02, 3.5413e-01,\n",
       "         3.1531e-01]], grad_fn=<MulBackward0>)"
      ]
     },
     "execution_count": 81,
     "metadata": {},
     "output_type": "execute_result"
    }
   ],
   "source": [
    "print(f\"Accuracy of model on batch (with random weights): {accuracy(preds, yb)}\")\n",
    "print(weights)\n",
    "print(torch.transpose(weights, 0, 1))\n",
    "weights * torch.transpose(weights, -1, 1)"
   ]
  },
  {
   "attachments": {},
   "cell_type": "markdown",
   "metadata": {},
   "source": [
    "Now we are ready to combine it all and perform learning"
   ]
  },
  {
   "cell_type": "code",
   "execution_count": 86,
   "metadata": {},
   "outputs": [
    {
     "name": "stdout",
     "output_type": "stream",
     "text": [
      "Epoch: 0, B-idx: 0, Training loss: 23.60002052046851, Time taken: 11.77\n",
      "Epoch: 0, B-idx: 50, Training loss: 12.28687586103167, Time taken: 24.3\n",
      "Epoch: 0, B-idx: 100, Training loss: 7.645924575293242, Time taken: 37.58\n",
      "Epoch: 0, B-idx: 150, Training loss: 5.441630075735324, Time taken: 49.93\n",
      "Epoch: 0, B-idx: 200, Training loss: 4.262496294497427, Time taken: 62.43\n",
      "Epoch: 0, B-idx: 250, Training loss: 3.534051255630786, Time taken: 75.13\n",
      "Epoch: 0, B-idx: 300, Training loss: 3.0314264981223067, Time taken: 96.18\n",
      "Epoch: 0, B-idx: 350, Training loss: 2.673161475643166, Time taken: 116.01\n",
      "Epoch: 0, B-idx: 400, Training loss: 2.393401888896153, Time taken: 133.56\n",
      "Epoch: 0, B-idx: 450, Training loss: 2.167569772266884, Time taken: 151.22\n"
     ]
    }
   ],
   "source": [
    "use_momentum = True\n",
    "\n",
    "import time\n",
    "training_start_time = time.time()\n",
    "\n",
    "epochs = 1  # how many epochs to train for\n",
    "lr = 0.01  # learning rate\n",
    "\n",
    "weights_momentum = torch.zeros_like(weights)\n",
    "bias_momentum = torch.zeros_like(bias)\n",
    "\n",
    "weights_momentum_alpha = 0.9 # Value for causing drag on the momentum\n",
    "bias_momentum_alpha = 0.9\n",
    "\n",
    "train_losses = []\n",
    "train_time   = []\n",
    "\n",
    "reg_rate = 0.1\n",
    "\n",
    "def l1_omega(w):\n",
    "    return torch.sum(torch.abs(w))\n",
    "\n",
    "def l1_loss(loss, w):\n",
    "    return loss + reg_rate * l1_omega(w)\n",
    "\n",
    "def l2_omega(w):\n",
    "    return (1 / 2) * (torch.sum(w ** 2))\n",
    "\n",
    "def l2_loss(loss, w):\n",
    "    return loss + (reg_rate) * l2_omega(w) \n",
    "\n",
    "\n",
    "\n",
    "for epoch in range(epochs):\n",
    "    for batch_idx, (xb, yb) in enumerate(train_loader):\n",
    "\n",
    "        xb = xb.squeeze().flatten(start_dim=1)\n",
    "        pred = model(xb)\n",
    "        # We specify the loss\n",
    "        loss = loss_func(pred, yb)\n",
    "        loss = l2_loss(loss, weights)\n",
    "        # and perform backpropagation    \n",
    "        loss.backward()\n",
    "        # Lastly we update the weights and bias (torch.no_grad() ensures that no gradient \n",
    "        # calculations are taking place in this part of the code)\n",
    "        with torch.no_grad():\n",
    "            # if use_momentum:\n",
    "            #     weights_momentum = weights_momentum*weights_momentum_alpha - weights.grad * lr\n",
    "            #     weights += weights_momentum\n",
    "\n",
    "            #     bias_momentum = bias_momentum*bias_momentum_alpha - bias.grad * lr\n",
    "            #     bias += bias_momentum\n",
    "            # else:\n",
    "            weights -= weights.grad * lr\n",
    "            bias -= bias.grad * lr\n",
    "            \n",
    "\n",
    "            \n",
    "            # After updating we set the gradients to zero so that we ar eready for the next round\n",
    "            weights.grad.zero_()\n",
    "            bias.grad.zero_()\n",
    "                    \n",
    "            if batch_idx % 50 == 0:\n",
    "                with torch.no_grad():\n",
    "                    train_loss = np.mean([loss_func(model(txb.squeeze().flatten(start_dim=1)), tyb).item() for txb, tyb in train_loader])\n",
    "                    print(f\"Epoch: {epoch}, B-idx: {batch_idx}, Training loss: {train_loss}, Time taken: {round(time.time()-training_start_time, 2)}\")\n",
    "                    train_losses.append(train_loss)\n",
    "                    train_time.append(round(time.time()-training_start_time, 2))"
   ]
  },
  {
   "attachments": {},
   "cell_type": "markdown",
   "metadata": {},
   "source": [
    "Plot the evolution of the training loss"
   ]
  },
  {
   "cell_type": "code",
   "execution_count": 87,
   "metadata": {
    "scrolled": true
   },
   "outputs": [
    {
     "data": {
      "text/plain": [
       "[<matplotlib.lines.Line2D at 0x7efce860f9d0>]"
      ]
     },
     "execution_count": 87,
     "metadata": {},
     "output_type": "execute_result"
    },
    {
     "data": {
      "image/png": "[encoded data removed]",
      "text/plain": [
       "<Figure size 640x480 with 1 Axes>"
      ]
     },
     "metadata": {},
     "output_type": "display_data"
    }
   ],
   "source": [
    "#plt.plot(range(len(train_losses)), train_losses)\n",
    "plt.plot(train_time, train_losses)"
   ]
  },
  {
   "attachments": {},
   "cell_type": "markdown",
   "metadata": {},
   "source": [
    "__Exercise:__ \n",
    "1. Experiment with different variations of the gradient descent implementation; try varying the learning rate and the batch size. Assuming that you have a fixed time budget (say 2 minutes for learning), what can we then say about the effect of changing the parameters?\n",
    "2. Implement momentum in the learning algorithm. How does it affect the results?\n",
    "3. Try with different initialization schemes for the parameters (e.g. allowing for larger values). How does it affect the behavior of the algorithm?\n",
    "4. Analyze the behavior of the algorithm on the test set and implement a method for evaluating the accuracy over the entire training/test set.\n",
    "5. If you feel adventorous, you are welcome to try to specify and experiment with other more advanced model architectures (cell 23). "
   ]
  },
  {
   "cell_type": "code",
   "execution_count": null,
   "metadata": {},
   "outputs": [],
   "source": [
    "for batch in train_loader:\n",
    "    for i in range (0, len(batch[1])):\n",
    "        digit_batch = batch[0]\n",
    "        img = digit_batch[0,:]\n",
    "        pyplot.imshow(img.reshape((28, 28)), cmap=\"gray\")\n",
    "\n",
    "        # We flatten the digit representation so that it is consistent with the weight matrix\n",
    "        xb = digit_batch.flatten(start_dim=1)\n",
    "        preds = model(xb)\n",
    "        predicted_class = preds[0].argmax()\n",
    "\n",
    "\n",
    "\n",
    "\n",
    "print(f\"Prediction on first image {preds[0]}\")\n",
    "print(f\"Corresponding classification: {preds[0].argmax()}\")\n",
    "\n",
    "yb = batch[1]\n",
    "print(loss_func(preds,yb))\n",
    "\n",
    "print(f\"Accuracy of model on batch (with random weights): {accuracy(preds, yb)}\")"
   ]
  }
 ],
 "metadata": {
  "kernelspec": {
   "display_name": "Python 3",
   "language": "python",
   "name": "python3"
  },
  "language_info": {
   "codemirror_mode": {
    "name": "ipython",
    "version": 3
   },
   "file_extension": ".py",
   "mimetype": "text/x-python",
   "name": "python",
   "nbconvert_exporter": "python",
   "pygments_lexer": "ipython3",
   "version": "3.9.4"
  },
  "vscode": {
   "interpreter": {
    "hash": "36cf16204b8548560b1c020c4e8fb5b57f0e4c58016f52f2d4be01e192833930"
   }
  }
 },
 "nbformat": 4,
 "nbformat_minor": 2
}
